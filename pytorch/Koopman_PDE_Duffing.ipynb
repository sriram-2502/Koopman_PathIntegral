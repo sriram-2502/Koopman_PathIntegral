{
  "cells": [
    {
      "cell_type": "code",
      "execution_count": 41,
      "metadata": {
        "colab": {
          "base_uri": "https://localhost:8080/"
        },
        "id": "VlapWshSBosG",
        "outputId": "b3c2640e-5c3c-4ab8-9bea-c381440ee4d7"
      },
      "outputs": [],
      "source": [
        "#!pip install nangs\n",
        "#!pip install torchdiffeq"
      ]
    },
    {
      "cell_type": "code",
      "execution_count": 42,
      "metadata": {
        "colab": {
          "base_uri": "https://localhost:8080/"
        },
        "id": "T7xr48LXA4QY",
        "outputId": "f1865e61-2eab-4455-eba7-1f5470d6cec3"
      },
      "outputs": [
        {
          "data": {
            "text/plain": [
              "tensor([0., 0.])"
            ]
          },
          "execution_count": 42,
          "metadata": {},
          "output_type": "execute_result"
        }
      ],
      "source": [
        "import numpy as np \n",
        "import scipy\n",
        "import matplotlib.pyplot as plt \n",
        "import torch\n",
        "import nangs\n",
        "import math \n",
        "import sympy as sp\n",
        "\n",
        "device = \"cuda\" if torch.cuda.is_available() else \"cpu\"\n",
        "device = \"cpu\"\n",
        "#nangs.__version__, torch.__version__\n",
        "torch.tensor([0., 0.]).to(device)"
      ]
    },
    {
      "cell_type": "code",
      "execution_count": 43,
      "metadata": {
        "id": "jedNI2hvYY3s"
      },
      "outputs": [],
      "source": [
        "# setup duffing oscillator x_dot = f(x)\n",
        "\n",
        "# compute linearization and eigenvalues\n",
        "A = np.array([[0,1],[-1,-0.5]])\n",
        "E,W = scipy.linalg.eig(np.array(A.T))\n",
        "# Er,Wr = scipy.linalg.cdf2rdf(E, W) # realify in case\n",
        "\n",
        "w1_real = W[:,0].real; w1_imag = W[:,0].imag\n",
        "w2_real = W[:,1].real; w2_imag = W[:,1].imag\n",
        "\n",
        "eig1_real = E.real[0]; eig2_real = E.real[1]\n",
        "eig1_imag = E.imag[0]; eig2_imag = E.imag[1]\n",
        "\n",
        "# convert to torch tensors\n",
        "A = torch.tensor(A).reshape(2,2).to(device)\n",
        "w1_real = torch.tensor(w1_real).to(device); w1_imag = torch.tensor(w1_imag).to(device)\n",
        "eig1_real = torch.tensor(eig1_real).to(device); eig1_imag = torch.tensor(eig1_imag).to(device)\n",
        "\n",
        "# padd extra dimension of dot products\n",
        "w1_real = w1_real[:,None]; w1_imag = w1_imag[:,None]"
      ]
    },
    {
      "cell_type": "code",
      "execution_count": 44,
      "metadata": {},
      "outputs": [],
      "source": [
        "# define x_dot = f(x)\n",
        "# def f(t,x):\n",
        "#     if not torch.is_tensor(x):\n",
        "#         print('x is not a tensor')\n",
        "#         print(x[1,:])\n",
        "#         x = torch.tensor(x).cuda()\n",
        "#     x1_dot = x[1]\n",
        "#     x2_dot = -0.5*x[1] - (x[0]**2 - 1)*x[0]\n",
        "#     return torch.stack((x1_dot,x2_dot))\n",
        "\n",
        "# find the nonlinear part fn(x)\n",
        "# def fn(t,x):\n",
        "#     if not torch.is_tensor(x):\n",
        "#         x = torch.tensor(x).cuda()\n",
        "#     #return f(t,x) - torch.mm(A,x.double())\n",
        "#     return f(t,x) - torch.mm(A,x)\n",
        "\n",
        "# def g_real(t,x,w):\n",
        "#     return torch.mm(w.T,fn(t,x))\n",
        "\n",
        "# def g_imag(t,x,w):    \n",
        "#     return torch.mm(w.T,fn(t,x))"
      ]
    },
    {
      "cell_type": "code",
      "execution_count": 45,
      "metadata": {},
      "outputs": [],
      "source": [
        "def f(t,x,y):\n",
        "    print(x)\n",
        "    if not torch.is_tensor(x):\n",
        "        print('x is not a tensor') \n",
        "        x = torch.tensor(x).to(device)\n",
        "    x_dot = y\n",
        "    y_dot = -0.5*y - (x**2 - 1)*x\n",
        "    return torch.stack((x_dot,y_dot))\n",
        "\n",
        "def fn(t,x,y):\n",
        "    if not torch.is_tensor(x):\n",
        "        x = torch.tensor(x).to(device)\n",
        "    return torch.mm(A,torch.vstack((x.double(),y.double())))\n",
        "    #return f(t,x,y) - torch.mm(A,torch.vstack((x,y)))\n",
        "\n",
        "def g_real(t,x,y,w):\n",
        "    return torch.mm(w.T,fn(t,x,y))\n",
        "\n",
        "def g_imag(t,x,y,w):    \n",
        "    return torch.mm(w.T,fn(t,x,y))"
      ]
    },
    {
      "cell_type": "code",
      "execution_count": 46,
      "metadata": {},
      "outputs": [
        {
          "name": "stdout",
          "output_type": "stream",
          "text": [
            "tensor([0])\n"
          ]
        },
        {
          "data": {
            "text/plain": [
              "tensor([[0.],\n",
              "        [-0.]])"
            ]
          },
          "execution_count": 46,
          "metadata": {},
          "output_type": "execute_result"
        }
      ],
      "source": [
        "x0 = torch.tensor([[0],[0]]).to(device)\n",
        "t = torch.tensor([0]).to(device)\n",
        "# g_real(t,x0[0],x0[1],w1_real)\n",
        "f(t,x0[1],x0[0])"
      ]
    },
    {
      "cell_type": "code",
      "execution_count": 47,
      "metadata": {
        "id": "pll_x5zzCgV7"
      },
      "outputs": [],
      "source": [
        "#Define the eigenfunction PDE\n",
        "\n",
        "from nangs import PDE\n",
        "\n",
        "class Eigen(PDE):\n",
        "    def computePDELoss(self, inputs, outputs):\n",
        "                \n",
        "        # compute gradients\n",
        "        grads = self.computeGrads(outputs, inputs)\n",
        "        \n",
        "        # compute loss\n",
        "        dpdx, dpdy = grads[:, 0], grads[:, 1]\n",
        "        x, y = inputs[:, 0], inputs[:, 1]\n",
        "        p = outputs\n",
        "        t = torch.tensor([0]) # steady state values\n",
        "        u, v = f(t, x, y)\n",
        "        g = g_real(t, x, y, w1_real)\n",
        "        eig = eig1_real\n",
        "        return {'pde': -eig*p + u*dpdx + v*dpdy + g}\n",
        "\n",
        "# instantiate pde\n",
        "pde = Eigen(inputs=('x', 'y'), outputs='p')"
      ]
    },
    {
      "cell_type": "code",
      "execution_count": 48,
      "metadata": {},
      "outputs": [
        {
          "data": {
            "text/plain": [
              "(('x', 'y'), ('p',))"
            ]
          },
          "execution_count": 48,
          "metadata": {},
          "output_type": "execute_result"
        }
      ],
      "source": [
        "x0 = torch.tensor([[0],[0]]).to(device)\n",
        "t = torch.tensor([0]).to(device)\n",
        "pde.inputs, pde.outputs"
      ]
    },
    {
      "cell_type": "markdown",
      "metadata": {
        "id": "ijyOK4dV-CXW"
      },
      "source": [
        "# Prepare training data"
      ]
    },
    {
      "cell_type": "code",
      "execution_count": 49,
      "metadata": {
        "id": "rApv7tnKF2yu"
      },
      "outputs": [],
      "source": [
        "# define the sampler\n",
        "\n",
        "from nangs import RandomSampler\n",
        "\n",
        "sampler = RandomSampler({\n",
        "    'x': [-0.45, 0.45], \n",
        "    'y': [-0.45, 0.45],\n",
        "}, device=device, n_samples=2000)\n",
        "pde.set_sampler(sampler)"
      ]
    },
    {
      "cell_type": "code",
      "execution_count": 50,
      "metadata": {},
      "outputs": [
        {
          "data": {
            "text/plain": [
              "{'x': tensor([ 0.3308, -0.2341,  0.4295,  0.2360,  0.3085]),\n",
              " 'y': tensor([-0.0090,  0.1402,  0.0316,  0.0184,  0.1239])}"
            ]
          },
          "execution_count": 50,
          "metadata": {},
          "output_type": "execute_result"
        }
      ],
      "source": [
        "sampler.sample(5)"
      ]
    },
    {
      "attachments": {},
      "cell_type": "markdown",
      "metadata": {},
      "source": [
        "Test stacking"
      ]
    },
    {
      "cell_type": "code",
      "execution_count": 51,
      "metadata": {},
      "outputs": [],
      "source": [
        "# test stacking\n",
        "# x0 = torch.tensor([[0],[0]], dtype=double).cuda()\n",
        "# t = torch.tensor([0]).cuda()\n",
        "# torch.vstack((f(t,x0), torch.exp(-eig1_real*t)*g_real(t,x0,w1_real)))"
      ]
    },
    {
      "attachments": {},
      "cell_type": "markdown",
      "metadata": {},
      "source": [
        "Test odeint"
      ]
    },
    {
      "cell_type": "code",
      "execution_count": 52,
      "metadata": {},
      "outputs": [],
      "source": [
        "# test ode int\n",
        "# from torchdiffeq import odeint\n",
        "# H = lambda t,X : torch.vstack((f(t,torch.vstack((x0[0],x0[1]))), torch.exp(-eig1_real*t)*g_real(t,torch.vstack((x0[0],x0[1])),w1_real)))\n",
        "# t_boundary = torch.tensor([0.]).cuda()\n",
        "\n",
        "# sol = odeint(H, torch.vstack((x0[0],x0[1], torch.zeros(1).cuda())), t_boundary)\n",
        "# sol[-1,2]"
      ]
    },
    {
      "attachments": {},
      "cell_type": "markdown",
      "metadata": {},
      "source": [
        "Test Initial conditions"
      ]
    },
    {
      "cell_type": "code",
      "execution_count": 53,
      "metadata": {},
      "outputs": [],
      "source": [
        "# from torchdiffeq import odeint\n",
        "# from nangs import Dirichlet\n",
        "\n",
        "# H = lambda t,X : torch.vstack((f(t,torch.vstack((x0[0],x0[1]))), torch.exp(-eig1_real*t)*g_real(t,torch.vstack((x0[0],x0[1])),w1_real)))\n",
        "# t_boundary = torch.tensor([0.,2.]).cuda()\n",
        "\n",
        "# initial_condition1 = Dirichlet(\n",
        "#     RandomSampler({'x': [-0.45, 0.45], 'y': 0.45}, device=device, n_samples=100), \n",
        "#     lambda inputs: {'p' : odeint(H, torch.vstack((inputs['x'].reshape(-1,1), inputs['y'].reshape(-1,1), torch.zeros(1).cuda())), t_boundary)[-1,2]},\n",
        "#     name=\"test\"\n",
        "# )\n",
        "\n",
        "# pde.add_boco(initial_condition1)"
      ]
    },
    {
      "cell_type": "code",
      "execution_count": 54,
      "metadata": {},
      "outputs": [],
      "source": [
        "# initial_condition1.sample(5)\n"
      ]
    },
    {
      "cell_type": "code",
      "execution_count": 55,
      "metadata": {
        "id": "oE433Q-6x5mj"
      },
      "outputs": [],
      "source": [
        "# from torchdiffeq import odeint\n",
        "# from nangs import Dirichlet\n",
        "\n",
        "# H = lambda t,X : torch.vstack((f(t,torch.vstack((x0[0],x0[1]))), torch.exp(-eig1_real*t)*g_real(t,torch.vstack((x0[0],x0[1])),w1_real)))\n",
        "# t_boundary = torch.tensor([0.,2.]).cuda()\n",
        "\n",
        "# initial_condition1 = Dirichlet(\n",
        "#     RandomSampler({'x': [-0.45, 0.45], 'y': 0.45}, device=device, n_samples=100), \n",
        "#     lambda inputs: {'p' : odeint(H, torch.vstack((inputs['x'].reshape(-1,1), inputs['y'].reshape(-1,1), torch.zeros(1).cuda())), t_boundary)[-1,2]},\n",
        "#     name=\"edge1\"\n",
        "# )\n",
        "\n",
        "# initial_condition2 = Dirichlet(\n",
        "#     RandomSampler({'x': [-0.45, 0.45], 'y': -0.45}, device=device, n_samples=100), \n",
        "#     lambda inputs: {'p' : odeint(H, torch.vstack((inputs['x'].reshape(-1,1), inputs['y'].reshape(-1,1), torch.zeros(1).cuda())), t_boundary)[-1,2]},\n",
        "#     name=\"edge2\"\n",
        "# )\n",
        "\n",
        "# initial_condition3 = Dirichlet(\n",
        "#     RandomSampler({'x': 0.45, 'y': [-0.45, 0.45]}, device=device, n_samples=100), \n",
        "#     lambda inputs: {'p' : odeint(H, torch.vstack((inputs['x'].reshape(-1,1), inputs['y'].reshape(-1,1), torch.zeros(1).cuda())), t_boundary)[-1,2]},\n",
        "#     name=\"edge3\"\n",
        "# )\n",
        "\n",
        "# initial_condition4 = Dirichlet(\n",
        "#     RandomSampler({'x': -0.45, 'y': [-0.45, 0.45]}, device=device, n_samples=100), \n",
        "#     lambda inputs: {'p' : odeint(H, torch.vstack((inputs['x'].reshape(-1,1), inputs['y'].reshape(-1,1), torch.zeros(1).cuda())), t_boundary)[-1,2]},\n",
        "#     name=\"edge4\"\n",
        "# )\n",
        "\n",
        "# pde.add_boco(initial_condition1)\n",
        "# pde.add_boco(initial_condition2)\n",
        "# pde.add_boco(initial_condition3)\n",
        "# pde.add_boco(initial_condition4)"
      ]
    },
    {
      "cell_type": "code",
      "execution_count": 56,
      "metadata": {
        "colab": {
          "base_uri": "https://localhost:8080/"
        },
        "id": "Fuul43caLfsT",
        "outputId": "6a7566b5-6d76-4db4-ff48-d78d037313a8"
      },
      "outputs": [],
      "source": [
        "# initial_condition1.sample(7)"
      ]
    },
    {
      "cell_type": "markdown",
      "metadata": {
        "id": "aUAF4uPMownt"
      },
      "source": [
        "# Train"
      ]
    },
    {
      "cell_type": "code",
      "execution_count": 57,
      "metadata": {},
      "outputs": [],
      "source": [
        "import torch.nn as nn\n",
        "\n",
        "class Sine(nn.Module):\n",
        "    def __init__(self):\n",
        "        super().__init__()\n",
        "    def forward(self, x):\n",
        "        return torch.sin(x)\n",
        "        \n",
        "\n",
        "mlp = nn.Sequential(\n",
        "\tnn.Linear(2, 100),\n",
        "\tSine(), \n",
        "\tnn.Linear(100, 100), \n",
        "\tSine(), \n",
        "\tnn.Linear(100, 1)\n",
        ")"
      ]
    },
    {
      "cell_type": "code",
      "execution_count": 58,
      "metadata": {
        "colab": {
          "base_uri": "https://localhost:8080/"
        },
        "id": "Mk34jFJfIDvF",
        "outputId": "dfd971ae-c1c0-4d98-fd88-bd14624abd0d"
      },
      "outputs": [],
      "source": [
        "# solve\n",
        "\n",
        "from nangs import MLP\n",
        "\n",
        "LR = 1e-2\n",
        "N_STEPS = 2000\n",
        "NUM_LAYERS = 3\n",
        "NUM_HIDDEN = 128\n",
        "\n",
        "mlp = MLP(len(pde.inputs), len(pde.outputs), NUM_LAYERS, NUM_HIDDEN).to(device)\n",
        "optimizer = torch.optim.Adam(mlp.parameters())\n",
        "scheduler = torch.optim.lr_scheduler.OneCycleLR(optimizer, max_lr=LR, pct_start=0.1, div_factor=10, final_div_factor=1, total_steps=N_STEPS)\n"
      ]
    },
    {
      "cell_type": "code",
      "execution_count": 59,
      "metadata": {},
      "outputs": [
        {
          "data": {
            "text/plain": [
              "MLP(\n",
              "  (mlp): Sequential(\n",
              "    (0): Linear(in_features=2, out_features=128, bias=True)\n",
              "    (1): Sequential(\n",
              "      (0): Sine()\n",
              "      (1): Linear(in_features=128, out_features=128, bias=True)\n",
              "    )\n",
              "    (2): Sequential(\n",
              "      (0): Sine()\n",
              "      (1): Linear(in_features=128, out_features=128, bias=True)\n",
              "    )\n",
              "    (3): Sequential(\n",
              "      (0): Sine()\n",
              "      (1): Linear(in_features=128, out_features=1, bias=True)\n",
              "    )\n",
              "  )\n",
              ")"
            ]
          },
          "execution_count": 59,
          "metadata": {},
          "output_type": "execute_result"
        }
      ],
      "source": [
        "mlp"
      ]
    },
    {
      "cell_type": "code",
      "execution_count": 60,
      "metadata": {},
      "outputs": [
        {
          "name": "stderr",
          "output_type": "stream",
          "text": [
            "  0%|          | 0/2000 [00:00<?, ?it/s]"
          ]
        },
        {
          "name": "stdout",
          "output_type": "stream",
          "text": [
            "tensor([-0.0371,  0.1421,  0.0749,  ...,  0.2816,  0.2369, -0.4089],\n",
            "       grad_fn=<SelectBackward0>)\n"
          ]
        },
        {
          "name": "stderr",
          "output_type": "stream",
          "text": [
            "\n"
          ]
        },
        {
          "ename": "RuntimeError",
          "evalue": "Found dtype Float but expected Double",
          "output_type": "error",
          "traceback": [
            "\u001b[1;31m---------------------------------------------------------------------------\u001b[0m",
            "\u001b[1;31mRuntimeError\u001b[0m                              Traceback (most recent call last)",
            "\u001b[1;32m<timed exec>\u001b[0m in \u001b[0;36m<module>\u001b[1;34m\u001b[0m\n",
            "\u001b[1;32m~\\AppData\\Roaming\\Python\\Python39\\site-packages\\nangs\\pde.py\u001b[0m in \u001b[0;36msolve\u001b[1;34m(self, N_STEPS, log_each)\u001b[0m\n\u001b[0;32m     89\u001b[0m                     \u001b[0mloss\u001b[0m \u001b[1;33m+=\u001b[0m \u001b[0ml\u001b[0m\u001b[1;33m\u001b[0m\u001b[1;33m\u001b[0m\u001b[0m\n\u001b[0;32m     90\u001b[0m                     \u001b[0mhistory\u001b[0m\u001b[1;33m.\u001b[0m\u001b[0madd_step\u001b[0m\u001b[1;33m(\u001b[0m\u001b[1;33m{\u001b[0m\u001b[0mname\u001b[0m\u001b[1;33m:\u001b[0m \u001b[0ml\u001b[0m\u001b[1;33m.\u001b[0m\u001b[0mitem\u001b[0m\u001b[1;33m(\u001b[0m\u001b[1;33m)\u001b[0m\u001b[1;33m}\u001b[0m\u001b[1;33m)\u001b[0m\u001b[1;33m\u001b[0m\u001b[1;33m\u001b[0m\u001b[0m\n\u001b[1;32m---> 91\u001b[1;33m             \u001b[0mloss\u001b[0m\u001b[1;33m.\u001b[0m\u001b[0mbackward\u001b[0m\u001b[1;33m(\u001b[0m\u001b[1;33m)\u001b[0m\u001b[1;33m\u001b[0m\u001b[1;33m\u001b[0m\u001b[0m\n\u001b[0m\u001b[0;32m     92\u001b[0m             \u001b[0mself\u001b[0m\u001b[1;33m.\u001b[0m\u001b[0moptimizer\u001b[0m\u001b[1;33m.\u001b[0m\u001b[0mstep\u001b[0m\u001b[1;33m(\u001b[0m\u001b[1;33m)\u001b[0m\u001b[1;33m\u001b[0m\u001b[1;33m\u001b[0m\u001b[0m\n\u001b[0;32m     93\u001b[0m             \u001b[1;32mif\u001b[0m \u001b[0mstep\u001b[0m \u001b[1;33m%\u001b[0m \u001b[0mlog_each\u001b[0m \u001b[1;33m==\u001b[0m \u001b[1;36m0\u001b[0m\u001b[1;33m:\u001b[0m\u001b[1;33m\u001b[0m\u001b[1;33m\u001b[0m\u001b[0m\n",
            "\u001b[1;32mc:\\Users\\sriramk\\.conda\\envs\\pytorch\\lib\\site-packages\\torch\\_tensor.py\u001b[0m in \u001b[0;36mbackward\u001b[1;34m(self, gradient, retain_graph, create_graph, inputs)\u001b[0m\n\u001b[0;32m    486\u001b[0m                 \u001b[0minputs\u001b[0m\u001b[1;33m=\u001b[0m\u001b[0minputs\u001b[0m\u001b[1;33m,\u001b[0m\u001b[1;33m\u001b[0m\u001b[1;33m\u001b[0m\u001b[0m\n\u001b[0;32m    487\u001b[0m             )\n\u001b[1;32m--> 488\u001b[1;33m         torch.autograd.backward(\n\u001b[0m\u001b[0;32m    489\u001b[0m             \u001b[0mself\u001b[0m\u001b[1;33m,\u001b[0m \u001b[0mgradient\u001b[0m\u001b[1;33m,\u001b[0m \u001b[0mretain_graph\u001b[0m\u001b[1;33m,\u001b[0m \u001b[0mcreate_graph\u001b[0m\u001b[1;33m,\u001b[0m \u001b[0minputs\u001b[0m\u001b[1;33m=\u001b[0m\u001b[0minputs\u001b[0m\u001b[1;33m\u001b[0m\u001b[1;33m\u001b[0m\u001b[0m\n\u001b[0;32m    490\u001b[0m         )\n",
            "\u001b[1;32mc:\\Users\\sriramk\\.conda\\envs\\pytorch\\lib\\site-packages\\torch\\autograd\\__init__.py\u001b[0m in \u001b[0;36mbackward\u001b[1;34m(tensors, grad_tensors, retain_graph, create_graph, grad_variables, inputs)\u001b[0m\n\u001b[0;32m    195\u001b[0m     \u001b[1;31m# some Python versions print out the first line of a multi-line function\u001b[0m\u001b[1;33m\u001b[0m\u001b[1;33m\u001b[0m\u001b[0m\n\u001b[0;32m    196\u001b[0m     \u001b[1;31m# calls in the traceback and some print out the last line\u001b[0m\u001b[1;33m\u001b[0m\u001b[1;33m\u001b[0m\u001b[0m\n\u001b[1;32m--> 197\u001b[1;33m     Variable._execution_engine.run_backward(  # Calls into the C++ engine to run the backward pass\n\u001b[0m\u001b[0;32m    198\u001b[0m         \u001b[0mtensors\u001b[0m\u001b[1;33m,\u001b[0m \u001b[0mgrad_tensors_\u001b[0m\u001b[1;33m,\u001b[0m \u001b[0mretain_graph\u001b[0m\u001b[1;33m,\u001b[0m \u001b[0mcreate_graph\u001b[0m\u001b[1;33m,\u001b[0m \u001b[0minputs\u001b[0m\u001b[1;33m,\u001b[0m\u001b[1;33m\u001b[0m\u001b[1;33m\u001b[0m\u001b[0m\n\u001b[0;32m    199\u001b[0m         allow_unreachable=True, accumulate_grad=True)  # Calls into the C++ engine to run the backward pass\n",
            "\u001b[1;31mRuntimeError\u001b[0m: Found dtype Float but expected Double"
          ]
        }
      ],
      "source": [
        "pde.compile(mlp, optimizer, scheduler)\n",
        "%time hist = pde.solve(N_STEPS)"
      ]
    },
    {
      "cell_type": "code",
      "execution_count": null,
      "metadata": {
        "colab": {
          "base_uri": "https://localhost:8080/",
          "height": 379
        },
        "id": "q8b55y7GoINv",
        "outputId": "8a6ee7b5-b873-410f-d31c-7914847ffd7a"
      },
      "outputs": [],
      "source": [
        "# plot loss history\n",
        "import pandas as pd \n",
        "\n",
        "df = pd.DataFrame(hist)\n",
        "fig = plt.figure(dpi=100)\n",
        "ax = plt.subplot(1,1,1)\n",
        "ax.set_yscale('log')\n",
        "df.plot(ax=ax, grid=True)"
      ]
    },
    {
      "cell_type": "markdown",
      "metadata": {
        "id": "6OwrSI9iorXL"
      },
      "source": [
        "#**Evaluate**"
      ]
    },
    {
      "cell_type": "code",
      "execution_count": null,
      "metadata": {
        "id": "kbL5oh3pCZYz"
      },
      "outputs": [],
      "source": [
        "from mpl_toolkits.mplot3d import Axes3D\n",
        "import matplotlib.pyplot as plt\n",
        "from matplotlib import cm\n",
        "\n",
        "x = np.linspace(-0.45,0.45,100)\n",
        "y = np.linspace(-0.45,0.45,100)\n",
        "\n",
        "_x, _y = np.meshgrid(x, y)\n",
        "\n",
        "grid = np.stack(np.meshgrid(x, y), -1).reshape(-1, 2)\n",
        "X = torch.from_numpy(grid).float().to(device)\n",
        "p = pde.eval(X)\n",
        "p = p.cpu().numpy()"
      ]
    },
    {
      "cell_type": "code",
      "execution_count": null,
      "metadata": {
        "id": "XL6vQnh0I3Vh"
      },
      "outputs": [],
      "source": [
        "X.requires_grad_(True)\n",
        "p = mlp(X)\n",
        "grads = pde.computeGrads(p,X)\n",
        "dpdx, dpdy = grads[:, 0].detach().numpy().reshape((len(_y),len(_x))), grads[:, 1].detach().numpy().reshape((len(_y),len(_x)))\n",
        "p = p.detach().numpy().reshape((len(_y),len(_x)))\n",
        "u,v = f(_x,_y)\n",
        "g = g1(_x,_y)\n",
        "error = -lam*p + u*dpdx.reshape((len(_y),len(_x))) + v*dpdy.reshape((len(_y),len(_x))) + g"
      ]
    },
    {
      "cell_type": "markdown",
      "metadata": {
        "id": "ITsG1P-Me9mk"
      },
      "source": [
        "# Visualize"
      ]
    },
    {
      "cell_type": "code",
      "execution_count": null,
      "metadata": {
        "colab": {
          "base_uri": "https://localhost:8080/",
          "height": 517
        },
        "id": "p1Q9L4_zPA2F",
        "outputId": "9b1e9f6b-5b5f-4e0a-99e7-4ac249c594b7"
      },
      "outputs": [],
      "source": [
        "import plotly.graph_objects as go\n",
        "import pandas as pd\n",
        "import numpy as np\n",
        "\n",
        "\"\"\"\n",
        "# Matplotlib not pretty \n",
        "fig = plt.figure(figsize=(15,5))\n",
        "ax = fig.add_subplot(1, 2, 1, projection='3d')\n",
        "ax.plot_surface(_x, _y, p + w1[0]*_x + w1[1]*_y, cmap=cm.coolwarm, linewidth=0, antialiased=False)\n",
        "ax.plot_surface(_x, _y, -(w1[0]/2)*p2(_x,_y), cmap=cm.spring, linewidth=0, antialiased=False)\n",
        "plt.show()\n",
        "\"\"\"\n",
        "\n",
        "fig = go.Figure(data=[go.Surface(z=(-w1[0]/2)*(2*_x**3+3*_y**3), x=_x, y=_y, showscale=False, opacity=0.3),\n",
        "                      go.Surface(z=p, x=_x, y=_y) ])\n",
        "fig.update_layout(title='$Nonlinear \\,part:\\; 2x^3 + 3y^3$', autosize=False,\n",
        "                  width=600, height=500,\n",
        "                  margin=dict(l=15, r=20, b=15, t=30))\n",
        "\n",
        "fig.update_layout(scene_aspectmode='cube')\n",
        "fig.show()\n"
      ]
    },
    {
      "cell_type": "code",
      "execution_count": null,
      "metadata": {
        "colab": {
          "base_uri": "https://localhost:8080/",
          "height": 17
        },
        "id": "KDKtpZ9DZ58O",
        "outputId": "8536ac35-8d4e-41e9-a690-cdd67904df02"
      },
      "outputs": [],
      "source": [
        "# Save if all looks A-OK !\n",
        "from google.colab import files\n",
        "torch.save(mlp.state_dict(),'checkpoint.pth')\n",
        "files.download('checkpoint.pth')"
      ]
    }
  ],
  "metadata": {
    "colab": {
      "provenance": []
    },
    "kernelspec": {
      "display_name": "pytorch",
      "language": "python",
      "name": "python3"
    },
    "language_info": {
      "codemirror_mode": {
        "name": "ipython",
        "version": 3
      },
      "file_extension": ".py",
      "mimetype": "text/x-python",
      "name": "python",
      "nbconvert_exporter": "python",
      "pygments_lexer": "ipython3",
      "version": "3.9.13"
    },
    "vscode": {
      "interpreter": {
        "hash": "2fdd1e12fda3b551e6de2c4592513686c1d343fca8c35f52ffb7d9a99f7989ba"
      }
    }
  },
  "nbformat": 4,
  "nbformat_minor": 0
}
